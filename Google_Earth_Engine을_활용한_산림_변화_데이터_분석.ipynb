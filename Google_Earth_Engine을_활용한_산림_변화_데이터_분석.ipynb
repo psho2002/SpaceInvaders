{
  "cells": [
    {
      "cell_type": "markdown",
      "metadata": {
        "id": "view-in-github",
        "colab_type": "text"
      },
      "source": [
        "<a href=\"https://colab.research.google.com/github/psho2002/SpaceInvaders/blob/master/Google_Earth_Engine%EC%9D%84_%ED%99%9C%EC%9A%A9%ED%95%9C_%EC%82%B0%EB%A6%BC_%EB%B3%80%ED%99%94_%EB%8D%B0%EC%9D%B4%ED%84%B0_%EB%B6%84%EC%84%9D.ipynb\" target=\"_parent\"><img src=\"https://colab.research.google.com/assets/colab-badge.svg\" alt=\"Open In Colab\"/></a>"
      ]
    },
    {
      "cell_type": "markdown",
      "id": "c98405ab-ccc0-4f02-8154-2149a5e4e63e",
      "metadata": {
        "id": "c98405ab-ccc0-4f02-8154-2149a5e4e63e"
      },
      "source": [
        "# Google Earth Engine을 활용한 산림 변화 데이터 분석\n",
        "\n",
        "안녕하세요? 이번 코드 실습은 Google Earth Engine을 활용한 산림 변화 데이터 분석을 진행해 보겠습니다. 실습 내용은 다음과 같습니다:\n",
        "1. GEE를 사용하여 설악산 생물권보전지역의 경계를 추출합니다.\n",
        "2. Global Forest Change 데이터셋에 관해 학습해 봅니다.\n",
        "3. 2001년부터 2022년까지의 기간 동안 산림손실 면적을 계산하고, 그 결과를 그래프로 시각화해봅니다.\n",
        "\n",
        "먼저 GEE Python API를 설치하고 인증해야 합니다."
      ]
    },
    {
      "cell_type": "code",
      "execution_count": null,
      "id": "7a0e8ae3-bb8a-4d44-9c90-49d7aa2f3fcf",
      "metadata": {
        "id": "7a0e8ae3-bb8a-4d44-9c90-49d7aa2f3fcf"
      },
      "outputs": [],
      "source": [
        "import ee\n",
        "import geemap\n",
        "from ipyleaflet import TileLayer\n",
        "import pandas as pd\n",
        "import matplotlib.pyplot as plt\n",
        "\n",
        "# Earth Engine 인증\n",
        "ee.Authenticate()\n",
        "\n",
        "# Earth Engine 초기화\n",
        "ee.Initialize(project='my-project')"
      ]
    },
    {
      "cell_type": "markdown",
      "id": "2f4dad2c-01ce-48ff-ad50-70f22ce724e2",
      "metadata": {
        "id": "2f4dad2c-01ce-48ff-ad50-70f22ce724e2"
      },
      "source": [
        "## 설악산 생물권보전지역 경계 추출하기\n",
        "\n",
        "세계 보호지역 데이터베이스(WDPA: World Database on Protected Areas)는 매월 업데이트되는 보호지역에 대한 가장 최신이며 완전한 정보의 원천입니다. 이는 유엔 환경 프로그램의 세계 보전 모니터링 센터(UNEP-WCMC: United Nations Environment Programme's World Conservation Monitoring Centre)가 IUCN 및 세계보호지역위원회(WCPA: World Commission on Protected Areas)의 지원을 받아 관리하고 있습니다.\n",
        "\n",
        "GEE에서 WDPA 폴리곤은 [FeatureCollection](https://developers.google.com/earth-engine/datasets/catalog/WCMC_WDPA_current_polygons) 데이터 구조로 접근 가능하며, 설악산 생물권보전지역의 WDPA ID는 [5085](https://www.protectedplanet.net/5085)입니다."
      ]
    },
    {
      "cell_type": "code",
      "execution_count": null,
      "id": "e2b0ce1e-8d42-48b4-a070-ade5330fc507",
      "metadata": {
        "colab": {
          "base_uri": "https://localhost:8080/",
          "height": 35
        },
        "id": "e2b0ce1e-8d42-48b4-a070-ade5330fc507",
        "outputId": "c6ea7e34-06ef-49e7-d0dd-baed1875a38b"
      },
      "outputs": [
        {
          "data": {
            "text/html": [
              "\n",
              "            <style>\n",
              "                .geemap-dark {\n",
              "                    --jp-widgets-color: white;\n",
              "                    --jp-widgets-label-color: white;\n",
              "                    --jp-ui-font-color1: white;\n",
              "                    --jp-layout-color2: #454545;\n",
              "                    background-color: #383838;\n",
              "                }\n",
              "\n",
              "                .geemap-dark .jupyter-button {\n",
              "                    --jp-layout-color3: #383838;\n",
              "                }\n",
              "\n",
              "                .geemap-colab {\n",
              "                    background-color: var(--colab-primary-surface-color, white);\n",
              "                }\n",
              "\n",
              "                .geemap-colab .jupyter-button {\n",
              "                    --jp-layout-color3: var(--colab-primary-surface-color, white);\n",
              "                }\n",
              "            </style>\n",
              "            "
            ],
            "text/plain": [
              "<IPython.core.display.HTML object>"
            ]
          },
          "metadata": {},
          "output_type": "display_data"
        },
        {
          "name": "stdout",
          "output_type": "stream",
          "text": [
            "Name: Mount Sorak\n"
          ]
        }
      ],
      "source": [
        "# 설악산 생물권보전지역 경계 추출\n",
        "wdpa = ee.FeatureCollection(\"WCMC/WDPA/current/polygons\")\n",
        "seorak = wdpa.filter(ee.Filter.eq('WDPAID', 5085))\n",
        "\n",
        "# 선택된 보호지역의 이름 확인\n",
        "wdpa_name = seorak.first().get('NAME').getInfo()\n",
        "print(\"Name:\", wdpa_name)"
      ]
    },
    {
      "cell_type": "markdown",
      "id": "9bc8de97-1c67-475d-9ecc-ee5f6da031a1",
      "metadata": {
        "id": "9bc8de97-1c67-475d-9ecc-ee5f6da031a1"
      },
      "source": [
        "Vworld 영상지도 위에 설악산 생물권보전지역의 외곽선을 표현해 봅니다."
      ]
    },
    {
      "cell_type": "code",
      "execution_count": null,
      "id": "ba5437cc-d77a-4adb-b70a-e9e65328667f",
      "metadata": {
        "id": "ba5437cc-d77a-4adb-b70a-e9e65328667f",
        "outputId": "00c2b180-a5f8-4f8b-c060-dd40502b618d",
        "colab": {
          "referenced_widgets": [
            "2331c5768da645cc99353a8f386b922f"
          ]
        }
      },
      "outputs": [
        {
          "data": {
            "text/html": [
              "\n",
              "            <style>\n",
              "                .geemap-dark {\n",
              "                    --jp-widgets-color: white;\n",
              "                    --jp-widgets-label-color: white;\n",
              "                    --jp-ui-font-color1: white;\n",
              "                    --jp-layout-color2: #454545;\n",
              "                    background-color: #383838;\n",
              "                }\n",
              "\n",
              "                .geemap-dark .jupyter-button {\n",
              "                    --jp-layout-color3: #383838;\n",
              "                }\n",
              "\n",
              "                .geemap-colab {\n",
              "                    background-color: var(--colab-primary-surface-color, white);\n",
              "                }\n",
              "\n",
              "                .geemap-colab .jupyter-button {\n",
              "                    --jp-layout-color3: var(--colab-primary-surface-color, white);\n",
              "                }\n",
              "            </style>\n",
              "            "
            ],
            "text/plain": [
              "<IPython.core.display.HTML object>"
            ]
          },
          "metadata": {},
          "output_type": "display_data"
        },
        {
          "data": {
            "application/vnd.jupyter.widget-view+json": {
              "model_id": "2331c5768da645cc99353a8f386b922f",
              "version_major": 2,
              "version_minor": 0
            },
            "text/plain": [
              "Map(center=[38.121201950409365, 128.4049622752154], controls=(WidgetControl(options=['position', 'transparent_…"
            ]
          },
          "execution_count": 3,
          "metadata": {},
          "output_type": "execute_result"
        }
      ],
      "source": [
        "# Vworld 영상지도 객체\n",
        "vworld_satellite = TileLayer(\n",
        "    url='https://xdworld.vworld.kr/2d/Satellite/service/{z}/{x}/{y}.jpeg',\n",
        "    name='Vworld Satellite',\n",
        "    attribution='Vworld'\n",
        ")\n",
        "\n",
        "# 1: 외곽선의 픽셀 값, 2: 외곽선의 두께(픽셀 단위)\n",
        "wdpa_raster = ee.Image().paint(seorak, 1, 2)\n",
        "\n",
        "# 시각화 파라미터 설정\n",
        "wdpa_vis = {\n",
        "    'palette': ['#FFFF00'], # Yellow 색상 적용\n",
        "    'opacity': 1\n",
        "}\n",
        "\n",
        "# 설악산 생물권보전지역 경계 가시화\n",
        "m = geemap.Map(width=\"800px\", height=\"500px\")\n",
        "m.add_layer(vworld_satellite)\n",
        "m.addLayer(wdpa_raster, wdpa_vis, wdpa_name) # 레이어 추가\n",
        "m.centerObject(seorak, 10) # 지도의 중심 설정\n",
        "m # 지도 객체 출력"
      ]
    },
    {
      "cell_type": "markdown",
      "id": "5adc2e2d-b995-462b-85d1-2079671efd1f",
      "metadata": {
        "id": "5adc2e2d-b995-462b-85d1-2079671efd1f"
      },
      "source": [
        "## Hansen Global Forest Change v1.10 (2000-2022) 데이터셋\n",
        "\n",
        "[Hansen Global Forest Change v1.10 (2000-2022)](https://developers.google.com/earth-engine/datasets/catalog/UMD_hansen_global_forest_change_2022_v1_10) 데이터셋은 Landsat 이미지 시계열 분석 결과를 통해 전 세계 산림 범위와 변화를 특성화합니다."
      ]
    },
    {
      "cell_type": "code",
      "execution_count": null,
      "id": "50c0bdae-6230-4168-9d51-c2b2d43db5d0",
      "metadata": {
        "id": "50c0bdae-6230-4168-9d51-c2b2d43db5d0",
        "outputId": "b868d394-0e76-474c-f984-ceab1497d0ef"
      },
      "outputs": [
        {
          "data": {
            "text/html": [
              "\n",
              "            <style>\n",
              "                .geemap-dark {\n",
              "                    --jp-widgets-color: white;\n",
              "                    --jp-widgets-label-color: white;\n",
              "                    --jp-ui-font-color1: white;\n",
              "                    --jp-layout-color2: #454545;\n",
              "                    background-color: #383838;\n",
              "                }\n",
              "\n",
              "                .geemap-dark .jupyter-button {\n",
              "                    --jp-layout-color3: #383838;\n",
              "                }\n",
              "\n",
              "                .geemap-colab {\n",
              "                    background-color: var(--colab-primary-surface-color, white);\n",
              "                }\n",
              "\n",
              "                .geemap-colab .jupyter-button {\n",
              "                    --jp-layout-color3: var(--colab-primary-surface-color, white);\n",
              "                }\n",
              "            </style>\n",
              "            "
            ],
            "text/plain": [
              "<IPython.core.display.HTML object>"
            ]
          },
          "metadata": {},
          "output_type": "display_data"
        }
      ],
      "source": [
        "# Hansen Global Forest Change v1.10 (2000-2022) 데이터셋\n",
        "gfc = ee.Image('UMD/hansen/global_forest_change_2022_v1_10')"
      ]
    },
    {
      "cell_type": "markdown",
      "id": "3b17d2da-ceaa-47b1-afcf-5e882b12590b",
      "metadata": {
        "id": "3b17d2da-ceaa-47b1-afcf-5e882b12590b"
      },
      "source": [
        "GFC 데이터셋에서 `treecover2000`과 `lossyear` 밴드를 시각화 해보겠습니다. 각 밴드의 의미는 다음과 같습니다:\n",
        "\n",
        "- `treecover2000`: 2000년도의 수관피복율(tree canopy cover, 0-100%)로, 5미터 이상 높이의 모든 식생에 대한 수관울폐도(canopy closure)를 의미합니다.\n",
        "  > 수관울폐도는 특정 지역에서 지상을 덮고 있는 나무 수관(나뭇가지와 잎으로 이루어진 상층부)의 면적 비율을 나타냅니다. 다시 말해, 어떤 지역을 위에서 내려다 보았을 때, 그 지역 중 얼마나 많은 부분이 나무의 수관에 의해 가려지는지를 백분율로 표현한 것입니다.\n",
        "- `lossyear`: 연구 기간 동안의 산림 손실(forest loss)로, 산림에서 비산림 상태로의 변화, 입지-대체 교란(stand-replacement disturbance)를 정의합니다.\n",
        "  > 0(손실 없음) 또는 1-22 범위의 값으로 표현되며, 각각 2001년부터 2022년까지 주로 감지된 손실을 나타냅니다."
      ]
    },
    {
      "cell_type": "code",
      "execution_count": null,
      "id": "bbb1b412-bb47-4f32-bbd6-e9a9f15551f3",
      "metadata": {
        "colab": {
          "base_uri": "https://localhost:8080/",
          "height": 521,
          "referenced_widgets": [
            "cb1797cb76e04eec89de7cc5859c8627",
            "0d8f89961a4545f5a8859c5a5596463f",
            "104cd8a9be354ec0acd7041e5d4f1095",
            "09791b015d384738866e0a13a6f3d147",
            "2f65fae523fb489f816bc4a809ae355c",
            "b42990efcc804419b96f6db55affbb98",
            "44f2ceb4b3df467cb86fd3c460947ebc",
            "c02513517ffc4b0facd3de1e97ceb714",
            "d6951fb903464d569253852eb66d6148",
            "cc526832fcb24f338610e44321de3bb2",
            "177e24e79cfd4cc7b3ff2048aa57e19a",
            "638bec2e45b7429aabe9944bf4a995cc",
            "7ce282ea991a463ba87dc8377e688309",
            "1cd9bfdba83d4d439423c14dcdd99fae",
            "5d1c1b49615046a99ecd43d373ac90f5",
            "9aa284bc3b844387980cfa43f7708c9a",
            "aafa08e067ee418bb3d0bcc165954495",
            "979541c5660a4b86a240f196cfaab75f",
            "0bba004e4c5d4d1eac82791953f8cce6",
            "90e486df3e8e45e5ad4924ca5f9bffd4",
            "3eddd9b626024ac284d7e363827ca8fe",
            "4f5d5ad7365b454b8ad1e18a7a44b504",
            "84af5ff8063a4002b97154e310edb433",
            "368217a0600c422da97f2a400c9c8498",
            "6eb0867fd0604beabb78820888a0df49",
            "de4b5f745fd04de3834c8adc27bec335"
          ]
        },
        "id": "bbb1b412-bb47-4f32-bbd6-e9a9f15551f3",
        "outputId": "db109e83-d43e-4cfc-cc1c-c5200c75639b"
      },
      "outputs": [
        {
          "data": {
            "text/html": [
              "\n",
              "            <style>\n",
              "                .geemap-dark {\n",
              "                    --jp-widgets-color: white;\n",
              "                    --jp-widgets-label-color: white;\n",
              "                    --jp-ui-font-color1: white;\n",
              "                    --jp-layout-color2: #454545;\n",
              "                    background-color: #383838;\n",
              "                }\n",
              "\n",
              "                .geemap-dark .jupyter-button {\n",
              "                    --jp-layout-color3: #383838;\n",
              "                }\n",
              "\n",
              "                .geemap-colab {\n",
              "                    background-color: var(--colab-primary-surface-color, white);\n",
              "                }\n",
              "\n",
              "                .geemap-colab .jupyter-button {\n",
              "                    --jp-layout-color3: var(--colab-primary-surface-color, white);\n",
              "                }\n",
              "            </style>\n",
              "            "
            ],
            "text/plain": [
              "<IPython.core.display.HTML object>"
            ]
          },
          "metadata": {},
          "output_type": "display_data"
        },
        {
          "data": {
            "application/vnd.jupyter.widget-view+json": {
              "model_id": "de4b5f745fd04de3834c8adc27bec335",
              "version_major": 2,
              "version_minor": 0
            },
            "text/plain": [
              "Map(center=[38.121201950409365, 128.4049622752154], controls=(WidgetControl(options=['position', 'transparent_…"
            ]
          },
          "execution_count": 5,
          "metadata": {},
          "output_type": "execute_result"
        }
      ],
      "source": [
        "# 수관피복 시각화 파라미터\n",
        "tree_cover_vis = {\n",
        "    'bands': ['treecover2000'],\n",
        "    'min': 0,\n",
        "    'max': 100,\n",
        "    'palette': ['black', 'green']\n",
        "}\n",
        "\n",
        "# 산림손실 시각화 파라미터\n",
        "tree_loss_vis = {\n",
        "    'bands': ['lossyear'],\n",
        "    'min': 0,\n",
        "    'max': 22,\n",
        "    'palette': ['yellow', 'red']\n",
        "}\n",
        "\n",
        "# Vworld 하이브리드지도 객체\n",
        "vworld_hybrid = TileLayer(\n",
        "    url='https://xdworld.vworld.kr/2d/Hybrid/service/{z}/{x}/{y}.png',\n",
        "    name='Vworld Hybrid',\n",
        "    attribution='Vworld'\n",
        ")\n",
        "\n",
        "# gfc 레이어 추가\n",
        "m = geemap.Map(width=\"800px\", height=\"500px\")\n",
        "m.addLayer(gfc, tree_cover_vis, 'tree cover')\n",
        "m.addLayer(gfc, tree_loss_vis, 'tree loss year')\n",
        "m.addLayer(wdpa_raster, wdpa_vis, wdpa_name)\n",
        "m.add_layer(vworld_hybrid)\n",
        "m.centerObject(seorak, 10) # 지도의 중심 설정\n",
        "m # 지도 객체 출력"
      ]
    },
    {
      "cell_type": "markdown",
      "id": "07b9006a-28e0-414a-9695-e8566a19b021",
      "metadata": {
        "id": "07b9006a-28e0-414a-9695-e8566a19b021"
      },
      "source": [
        "GFC 데이터셋은 2000년과 2022년의 구름 제거 이미지 합성 밴드들을 제공하고 있습니다. 지도 스와이프 기능을 활용해 동일지역 내 두 시기 이미지를 비교해 보겠습니다. 왼쪽 레이어는 2000년, 오른쪽 레이어는 2022년을 지정한 결과입니다.\n",
        "\n",
        "- 2000년 Landsat 7 구름 제거 이미지 합성 (first)\n",
        "  > `first_b30` (0.63-0.69µm, Red), `first_b40` (0.77-0.90µm, NIR), `first_b50` (1.55-1.75µm, SWIR), `first_b70` (2.09-2.35µm, SWIR)\n",
        "\n",
        "- 2022년 Landsat 구름 제거 이미지 합성 (last)\n",
        "  > `last_b30` (0.63-0.69µm, Red), `last_b40` (0.77-0.90µm, NIR), `last_b50` (1.55-1.75µm, SWIR), `last_b70` (2.09-2.35µm, SWIR)"
      ]
    },
    {
      "cell_type": "code",
      "execution_count": null,
      "id": "cfa216a9-69b7-44b1-8bfd-6ab1c2ed3bdc",
      "metadata": {
        "id": "cfa216a9-69b7-44b1-8bfd-6ab1c2ed3bdc",
        "outputId": "22dc0426-a891-4706-8fe0-0a20f23c875b",
        "colab": {
          "referenced_widgets": [
            "2c0c9916b250453f96318b03a958fa61"
          ]
        }
      },
      "outputs": [
        {
          "data": {
            "text/html": [
              "\n",
              "            <style>\n",
              "                .geemap-dark {\n",
              "                    --jp-widgets-color: white;\n",
              "                    --jp-widgets-label-color: white;\n",
              "                    --jp-ui-font-color1: white;\n",
              "                    --jp-layout-color2: #454545;\n",
              "                    background-color: #383838;\n",
              "                }\n",
              "\n",
              "                .geemap-dark .jupyter-button {\n",
              "                    --jp-layout-color3: #383838;\n",
              "                }\n",
              "\n",
              "                .geemap-colab {\n",
              "                    background-color: var(--colab-primary-surface-color, white);\n",
              "                }\n",
              "\n",
              "                .geemap-colab .jupyter-button {\n",
              "                    --jp-layout-color3: var(--colab-primary-surface-color, white);\n",
              "                }\n",
              "            </style>\n",
              "            "
            ],
            "text/plain": [
              "<IPython.core.display.HTML object>"
            ]
          },
          "metadata": {},
          "output_type": "display_data"
        },
        {
          "data": {
            "application/vnd.jupyter.widget-view+json": {
              "model_id": "2c0c9916b250453f96318b03a958fa61",
              "version_major": 2,
              "version_minor": 0
            },
            "text/plain": [
              "Map(center=[38.121201950409365, 128.4049622752154], controls=(ZoomControl(options=['position', 'zoom_in_text',…"
            ]
          },
          "execution_count": 6,
          "metadata": {},
          "output_type": "execute_result"
        }
      ],
      "source": [
        "# first 시각화 파라미터\n",
        "first_vis = {\n",
        "    'bands': ['first_b50', 'first_b40', 'first_b30']\n",
        "}\n",
        "\n",
        "# last 시각화 파라미터\n",
        "last_vis = {\n",
        "    'bands': ['last_b50', 'last_b40', 'last_b30']\n",
        "}\n",
        "\n",
        "# 분할-패널 지도(Split-panel map)\n",
        "m = geemap.Map(width=\"800px\", height=\"500px\")\n",
        "\n",
        "left_layer = geemap.ee_tile_layer(gfc, first_vis, \"first\")\n",
        "right_layer = geemap.ee_tile_layer(gfc, last_vis, \"last\")\n",
        "m.split_map(left_layer, right_layer)\n",
        "m.centerObject(seorak, 11) # 지도의 중심 설정\n",
        "m # 지도 객체 출력"
      ]
    },
    {
      "cell_type": "markdown",
      "id": "fff54ea9-9f77-4425-8ea2-bfe7b1a64c51",
      "metadata": {
        "id": "fff54ea9-9f77-4425-8ea2-bfe7b1a64c51"
      },
      "source": [
        "## 산림손실 면적 계산 및 시각화\n",
        "\n",
        "GFC 데이터셋의 `loss`와 `lossyear` 밴드를 사용하여 관심지역 내 산림손실 면적을 계산하고, 이를 시각화해 보겠습니다. 먼저 `loss` 밴드로부터 설악산 BR 내 산림손실 면적 총계를 계산해 봅니다.\n",
        "\n",
        "- `loss`: 연구 기간 동안의 산림 손실(forest loss)로, 산림에서 비산림 상태로의 변화, 입지-대체 교란(stand-replacement disturbance)를 정의합니다.\n",
        "  > 0(손실 없음) 또는 1(손실) 값으로 표현됩니다."
      ]
    },
    {
      "cell_type": "code",
      "execution_count": null,
      "id": "e0a6006a-af43-40fb-befe-f223225a40b2",
      "metadata": {
        "id": "e0a6006a-af43-40fb-befe-f223225a40b2",
        "outputId": "b950bd46-2dc2-4d83-ffa7-36fd83cb2f74"
      },
      "outputs": [
        {
          "data": {
            "text/html": [
              "\n",
              "            <style>\n",
              "                .geemap-dark {\n",
              "                    --jp-widgets-color: white;\n",
              "                    --jp-widgets-label-color: white;\n",
              "                    --jp-ui-font-color1: white;\n",
              "                    --jp-layout-color2: #454545;\n",
              "                    background-color: #383838;\n",
              "                }\n",
              "\n",
              "                .geemap-dark .jupyter-button {\n",
              "                    --jp-layout-color3: #383838;\n",
              "                }\n",
              "\n",
              "                .geemap-colab {\n",
              "                    background-color: var(--colab-primary-surface-color, white);\n",
              "                }\n",
              "\n",
              "                .geemap-colab .jupyter-button {\n",
              "                    --jp-layout-color3: var(--colab-primary-surface-color, white);\n",
              "                }\n",
              "            </style>\n",
              "            "
            ],
            "text/plain": [
              "<IPython.core.display.HTML object>"
            ]
          },
          "metadata": {},
          "output_type": "display_data"
        },
        {
          "name": "stdout",
          "output_type": "stream",
          "text": [
            "산림손실 면적: 17368422.44m²\n"
          ]
        }
      ],
      "source": [
        "# 산림손실 이미지\n",
        "loss_image = gfc.select(['loss'])\n",
        "area_image = loss_image.multiply(ee.Image.pixelArea())\n",
        "\n",
        "# 설악산 BR 내 산림손실 면적 합산\n",
        "stats = area_image.reduceRegion(\n",
        "    reducer=ee.Reducer.sum(),\n",
        "    geometry=seorak.geometry(),\n",
        "    scale=30,\n",
        "    maxPixels=1e9,\n",
        ")\n",
        "\n",
        "# 산림손실 면적 출력\n",
        "loss_area = stats.get('loss').getInfo()\n",
        "print(f\"산림손실 면적: {loss_area:.2f}m²\")"
      ]
    },
    {
      "cell_type": "markdown",
      "id": "f2bece50-8bfe-4873-a658-14fade16903f",
      "metadata": {
        "id": "f2bece50-8bfe-4873-a658-14fade16903f"
      },
      "source": [
        "이번에는 `lossyear` 밴드로부터 설악산 BR 내 연도별 손실 면적을 계산해 봅니다. 결과값은 데이터프레임으로 변환하겠습니다."
      ]
    },
    {
      "cell_type": "code",
      "execution_count": null,
      "id": "e87dfa43-f84e-40c9-9430-555ac52bc431",
      "metadata": {
        "id": "e87dfa43-f84e-40c9-9430-555ac52bc431",
        "outputId": "64809241-28e7-479c-b4c6-c66da940127b"
      },
      "outputs": [
        {
          "data": {
            "text/html": [
              "\n",
              "            <style>\n",
              "                .geemap-dark {\n",
              "                    --jp-widgets-color: white;\n",
              "                    --jp-widgets-label-color: white;\n",
              "                    --jp-ui-font-color1: white;\n",
              "                    --jp-layout-color2: #454545;\n",
              "                    background-color: #383838;\n",
              "                }\n",
              "\n",
              "                .geemap-dark .jupyter-button {\n",
              "                    --jp-layout-color3: #383838;\n",
              "                }\n",
              "\n",
              "                .geemap-colab {\n",
              "                    background-color: var(--colab-primary-surface-color, white);\n",
              "                }\n",
              "\n",
              "                .geemap-colab .jupyter-button {\n",
              "                    --jp-layout-color3: var(--colab-primary-surface-color, white);\n",
              "                }\n",
              "            </style>\n",
              "            "
            ],
            "text/plain": [
              "<IPython.core.display.HTML object>"
            ]
          },
          "metadata": {},
          "output_type": "display_data"
        },
        {
          "data": {
            "text/html": [
              "<div>\n",
              "<style scoped>\n",
              "    .dataframe tbody tr th:only-of-type {\n",
              "        vertical-align: middle;\n",
              "    }\n",
              "\n",
              "    .dataframe tbody tr th {\n",
              "        vertical-align: top;\n",
              "    }\n",
              "\n",
              "    .dataframe thead th {\n",
              "        text-align: right;\n",
              "    }\n",
              "</style>\n",
              "<table border=\"1\" class=\"dataframe\">\n",
              "  <thead>\n",
              "    <tr style=\"text-align: right;\">\n",
              "      <th></th>\n",
              "      <th>Year</th>\n",
              "      <th>Loss_Area_m2</th>\n",
              "      <th>Loss_Area_ha</th>\n",
              "    </tr>\n",
              "  </thead>\n",
              "  <tbody>\n",
              "    <tr>\n",
              "      <th>0</th>\n",
              "      <td>2001</td>\n",
              "      <td>200388.253457</td>\n",
              "      <td>20.038825</td>\n",
              "    </tr>\n",
              "  </tbody>\n",
              "</table>\n",
              "</div>"
            ],
            "text/plain": [
              "   Year   Loss_Area_m2  Loss_Area_ha\n",
              "0  2001  200388.253457     20.038825"
            ]
          },
          "execution_count": 8,
          "metadata": {},
          "output_type": "execute_result"
        }
      ],
      "source": [
        "# 산림손실연도 이미지\n",
        "lossyear_image = gfc.select(['lossyear'])\n",
        "\n",
        "# 2001-2022년 산림손실 면적 계산\n",
        "years = range(1, 23)\n",
        "loss_areas = []\n",
        "\n",
        "for year in years:\n",
        "    # 해당 연도의 산림손실 픽셀 선택\n",
        "    yearly_loss = lossyear_image.eq(year)\n",
        "\n",
        "    # 산림손실 면적 계산\n",
        "    area_image = yearly_loss.multiply(ee.Image.pixelArea())\n",
        "    stats = area_image.reduceRegion(\n",
        "        reducer=ee.Reducer.sum(),\n",
        "        geometry=seorak.geometry(),\n",
        "        scale=30,\n",
        "        maxPixels=1e9,\n",
        "    )\n",
        "\n",
        "    # 연도별 손실 면적을 리스트에 추가 (단위: 제곱미터)\n",
        "    loss_area = stats.getInfo()['lossyear']\n",
        "    loss_areas.append(loss_area)\n",
        "\n",
        "# 연도와 손실 면적을 데이터프레임으로 변환\n",
        "df = pd.DataFrame({\n",
        "    'Year': range(2001, 2023),\n",
        "    'Loss_Area_m2': loss_areas\n",
        "})\n",
        "\n",
        "df['Loss_Area_ha'] = df['Loss_Area_m2'] / 10000\n",
        "df.head(1)"
      ]
    },
    {
      "cell_type": "markdown",
      "id": "7f0b545d-3636-40b7-8497-8b0211d25271",
      "metadata": {
        "id": "7f0b545d-3636-40b7-8497-8b0211d25271"
      },
      "source": [
        "끝으로, 연도별 산림손실 면적을 막대 그래프로 시각화합니다. Google Earth Engine의 가장 큰 장점 중 하나는 바로 클라우드 기반의 풍부한 데이터셋과 강력한 컴퓨팅 자원을 손쉽게 통합하여 제공한다는 점입니다. 만약 이러한 작업을 로컬 환경에서 진행했다면, 데이터셋의 다운로드로부터 지역별 통계 연산에 이르기까지 상당한 시간이 소요되었을 것입니다. 이번 실습을 통해, GEE가 지리공간 데이터 분석과 환경 모니터링 작업에 강력한 도구임을 실감할 수 있습니다."
      ]
    },
    {
      "cell_type": "code",
      "execution_count": null,
      "id": "a04c2dc7-a72f-4a8a-a53f-935ca018f553",
      "metadata": {
        "id": "a04c2dc7-a72f-4a8a-a53f-935ca018f553",
        "outputId": "e6092ffc-2149-4d90-91d3-72e522fa699d"
      },
      "outputs": [
        {
          "data": {
            "text/html": [
              "\n",
              "            <style>\n",
              "                .geemap-dark {\n",
              "                    --jp-widgets-color: white;\n",
              "                    --jp-widgets-label-color: white;\n",
              "                    --jp-ui-font-color1: white;\n",
              "                    --jp-layout-color2: #454545;\n",
              "                    background-color: #383838;\n",
              "                }\n",
              "\n",
              "                .geemap-dark .jupyter-button {\n",
              "                    --jp-layout-color3: #383838;\n",
              "                }\n",
              "\n",
              "                .geemap-colab {\n",
              "                    background-color: var(--colab-primary-surface-color, white);\n",
              "                }\n",
              "\n",
              "                .geemap-colab .jupyter-button {\n",
              "                    --jp-layout-color3: var(--colab-primary-surface-color, white);\n",
              "                }\n",
              "            </style>\n",
              "            "
            ],
            "text/plain": [
              "<IPython.core.display.HTML object>"
            ]
          },
          "metadata": {},
          "output_type": "display_data"
        },
        {
          "data": {
            "image/png": "[encoded data removed]",
            "text/plain": [
              "<Figure size 1200x500 with 1 Axes>"
            ]
          },
          "metadata": {},
          "output_type": "display_data"
        }
      ],
      "source": [
        "# 연도별 산림손실 면적 막대 그래프 생성\n",
        "fig, ax = plt.subplots(figsize=(12, 5))\n",
        "colors = plt.cm.Reds(df['Loss_Area_ha'] / df['Loss_Area_ha'].max())\n",
        "bars = ax.bar(df['Year'], df['Loss_Area_ha'], color=colors)\n",
        "\n",
        "# 막대 위에 헥타르 단위로 면적 표시\n",
        "for bar, area_ha in zip(bars, df['Loss_Area_ha']):\n",
        "    yval = bar.get_height()\n",
        "    ax.text(bar.get_x() + bar.get_width()/2, yval, f'{area_ha:.0f}ha', va='bottom', ha='center', color='black')\n",
        "\n",
        "# 레이블 설정\n",
        "ax.set_xlabel('Year')\n",
        "ax.set_ylabel('Forest Loss Area (ha)')\n",
        "ax.set_title('Annual Forest Loss Area')\n",
        "\n",
        "# 차트를 이미지로 저장\n",
        "plt.savefig('forest_loss_area_colored.png', dpi=100)\n",
        "plt.show()"
      ]
    },
    {
      "cell_type": "code",
      "execution_count": null,
      "id": "0c3abab6-8997-41d6-8582-b7fad3d1e5f7",
      "metadata": {
        "id": "0c3abab6-8997-41d6-8582-b7fad3d1e5f7"
      },
      "outputs": [],
      "source": []
    }
  ],
  "metadata": {
    "colab": {
      "provenance": [],
      "include_colab_link": true
    },
    "kernelspec": {
      "display_name": "Python 3 (ipykernel)",
      "language": "python",
      "name": "python3"
    },
    "language_info": {
      "codemirror_mode": {
        "name": "ipython",
        "version": 3
      },
      "file_extension": ".py",
      "mimetype": "text/x-python",
      "name": "python",
      "nbconvert_exporter": "python",
      "pygments_lexer": "ipython3",
      "version": "3.10.11"
    },
    "widgets": {
      "application/vnd.jupyter.widget-state+json": {
        "09791b015d384738866e0a13a6f3d147": {
          "model_module": "jupyter-leaflet",
          "model_module_version": "^0.18",
          "model_name": "LeafletFullScreenControlModel",
          "state": {
            "_model_module": "jupyter-leaflet",
            "_model_module_version": "^0.18",
            "_model_name": "LeafletFullScreenControlModel",
            "_view_count": null,
            "_view_module": "jupyter-leaflet",
            "_view_module_version": "^0.18",
            "_view_name": "LeafletFullScreenControlView",
            "options": [
              "position"
            ],
            "position": "topleft"
          }
        },
        "0bba004e4c5d4d1eac82791953f8cce6": {
          "model_module": "@jupyter-widgets/base",
          "model_module_version": "1.2.0",
          "model_name": "LayoutModel",
          "state": {
            "_model_module": "@jupyter-widgets/base",
            "_model_module_version": "1.2.0",
            "_model_name": "LayoutModel",
            "_view_count": null,
            "_view_module": "@jupyter-widgets/base",
            "_view_module_version": "1.2.0",
            "_view_name": "LayoutView",
            "align_content": null,
            "align_items": null,
            "align_self": null,
            "border": null,
            "bottom": null,
            "display": null,
            "flex": null,
            "flex_flow": null,
            "grid_area": null,
            "grid_auto_columns": null,
            "grid_auto_flow": null,
            "grid_auto_rows": null,
            "grid_column": null,
            "grid_gap": null,
            "grid_row": null,
            "grid_template_areas": null,
            "grid_template_columns": null,
            "grid_template_rows": null,
            "height": null,
            "justify_content": null,
            "justify_items": null,
            "left": null,
            "margin": null,
            "max_height": null,
            "max_width": null,
            "min_height": null,
            "min_width": null,
            "object_fit": null,
            "object_position": null,
            "order": null,
            "overflow": null,
            "overflow_x": null,
            "overflow_y": null,
            "padding": null,
            "right": null,
            "top": null,
            "visibility": null,
            "width": null
          }
        },
        "0d8f89961a4545f5a8859c5a5596463f": {
          "model_module": "jupyter-leaflet",
          "model_module_version": "^0.18",
          "model_name": "LeafletWidgetControlModel",
          "state": {
            "_model_module": "jupyter-leaflet",
            "_model_module_version": "^0.18",
            "_model_name": "LeafletWidgetControlModel",
            "_view_count": null,
            "_view_module": "jupyter-leaflet",
            "_view_module_version": "^0.18",
            "_view_name": "LeafletWidgetControlView",
            "max_height": null,
            "max_width": null,
            "min_height": null,
            "min_width": null,
            "options": [
              "position",
              "transparent_bg"
            ],
            "position": "topleft",
            "transparent_bg": false,
            "widget": "IPY_MODEL_9aa284bc3b844387980cfa43f7708c9a"
          }
        },
        "104cd8a9be354ec0acd7041e5d4f1095": {
          "model_module": "jupyter-leaflet",
          "model_module_version": "^0.18",
          "model_name": "LeafletZoomControlModel",
          "state": {
            "_model_module": "jupyter-leaflet",
            "_model_module_version": "^0.18",
            "_model_name": "LeafletZoomControlModel",
            "_view_count": null,
            "_view_module": "jupyter-leaflet",
            "_view_module_version": "^0.18",
            "_view_name": "LeafletZoomControlView",
            "options": [
              "position",
              "zoom_in_text",
              "zoom_in_title",
              "zoom_out_text",
              "zoom_out_title"
            ],
            "position": "topleft",
            "zoom_in_text": "+",
            "zoom_in_title": "Zoom in",
            "zoom_out_text": "-",
            "zoom_out_title": "Zoom out"
          }
        },
        "177e24e79cfd4cc7b3ff2048aa57e19a": {
          "model_module": "jupyter-leaflet",
          "model_module_version": "^0.18",
          "model_name": "LeafletMapStyleModel",
          "state": {
            "_model_module": "jupyter-leaflet",
            "_model_module_version": "^0.18",
            "_model_name": "LeafletMapStyleModel",
            "_view_count": null,
            "_view_module": "@jupyter-widgets/base",
            "_view_module_version": "1.2.0",
            "_view_name": "StyleView",
            "cursor": "move"
          }
        },
        "1cd9bfdba83d4d439423c14dcdd99fae": {
          "model_module": "@jupyter-widgets/base",
          "model_module_version": "1.2.0",
          "model_name": "LayoutModel",
          "state": {
            "_model_module": "@jupyter-widgets/base",
            "_model_module_version": "1.2.0",
            "_model_name": "LayoutModel",
            "_view_count": null,
            "_view_module": "@jupyter-widgets/base",
            "_view_module_version": "1.2.0",
            "_view_name": "LayoutView",
            "align_content": null,
            "align_items": null,
            "align_self": null,
            "border": null,
            "bottom": null,
            "display": null,
            "flex": null,
            "flex_flow": null,
            "grid_area": null,
            "grid_auto_columns": null,
            "grid_auto_flow": null,
            "grid_auto_rows": null,
            "grid_column": null,
            "grid_gap": null,
            "grid_row": null,
            "grid_template_areas": null,
            "grid_template_columns": null,
            "grid_template_rows": null,
            "height": "500px",
            "justify_content": null,
            "justify_items": null,
            "left": null,
            "margin": null,
            "max_height": null,
            "max_width": null,
            "min_height": null,
            "min_width": null,
            "object_fit": null,
            "object_position": null,
            "order": null,
            "overflow": null,
            "overflow_x": null,
            "overflow_y": null,
            "padding": null,
            "right": null,
            "top": null,
            "visibility": null,
            "width": "800px"
          }
        },
        "2f65fae523fb489f816bc4a809ae355c": {
          "model_module": "jupyter-leaflet",
          "model_module_version": "^0.18",
          "model_name": "LeafletDrawControlModel",
          "state": {
            "_model_module": "jupyter-leaflet",
            "_model_module_version": "^0.18",
            "_model_name": "LeafletDrawControlModel",
            "_view_count": null,
            "_view_module": "jupyter-leaflet",
            "_view_module_version": "^0.18",
            "_view_name": "LeafletDrawControlView",
            "circle": {},
            "circlemarker": {},
            "data": [],
            "edit": true,
            "marker": {
              "shapeOptions": {
                "color": "#3388ff"
              }
            },
            "options": [
              "position"
            ],
            "polygon": {
              "shapeOptions": {}
            },
            "polyline": {
              "shapeOptions": {}
            },
            "position": "topleft",
            "rectangle": {
              "shapeOptions": {
                "color": "#3388ff"
              }
            },
            "remove": true
          }
        },
        "368217a0600c422da97f2a400c9c8498": {
          "model_module": "@jupyter-widgets/base",
          "model_module_version": "1.2.0",
          "model_name": "LayoutModel",
          "state": {
            "_model_module": "@jupyter-widgets/base",
            "_model_module_version": "1.2.0",
            "_model_name": "LayoutModel",
            "_view_count": null,
            "_view_module": "@jupyter-widgets/base",
            "_view_module_version": "1.2.0",
            "_view_name": "LayoutView",
            "align_content": null,
            "align_items": null,
            "align_self": null,
            "border": null,
            "bottom": null,
            "display": null,
            "flex": null,
            "flex_flow": null,
            "grid_area": null,
            "grid_auto_columns": null,
            "grid_auto_flow": null,
            "grid_auto_rows": null,
            "grid_column": null,
            "grid_gap": null,
            "grid_row": null,
            "grid_template_areas": null,
            "grid_template_columns": null,
            "grid_template_rows": null,
            "height": "28px",
            "justify_content": null,
            "justify_items": null,
            "left": null,
            "margin": null,
            "max_height": null,
            "max_width": null,
            "min_height": null,
            "min_width": null,
            "object_fit": null,
            "object_position": null,
            "order": null,
            "overflow": null,
            "overflow_x": null,
            "overflow_y": null,
            "padding": "0px 0px 0px 4px",
            "right": null,
            "top": null,
            "visibility": null,
            "width": "28px"
          }
        },
        "3eddd9b626024ac284d7e363827ca8fe": {
          "model_module": "@jupyter-widgets/base",
          "model_module_version": "1.2.0",
          "model_name": "LayoutModel",
          "state": {
            "_model_module": "@jupyter-widgets/base",
            "_model_module_version": "1.2.0",
            "_model_name": "LayoutModel",
            "_view_count": null,
            "_view_module": "@jupyter-widgets/base",
            "_view_module_version": "1.2.0",
            "_view_name": "LayoutView",
            "align_content": null,
            "align_items": null,
            "align_self": null,
            "border": null,
            "bottom": null,
            "display": null,
            "flex": null,
            "flex_flow": null,
            "grid_area": null,
            "grid_auto_columns": null,
            "grid_auto_flow": null,
            "grid_auto_rows": null,
            "grid_column": null,
            "grid_gap": null,
            "grid_row": null,
            "grid_template_areas": null,
            "grid_template_columns": null,
            "grid_template_rows": null,
            "height": null,
            "justify_content": null,
            "justify_items": null,
            "left": null,
            "margin": null,
            "max_height": null,
            "max_width": null,
            "min_height": null,
            "min_width": null,
            "object_fit": null,
            "object_position": null,
            "order": null,
            "overflow": null,
            "overflow_x": null,
            "overflow_y": null,
            "padding": null,
            "right": null,
            "top": null,
            "visibility": null,
            "width": null
          }
        },
        "44f2ceb4b3df467cb86fd3c460947ebc": {
          "model_module": "jupyter-leaflet",
          "model_module_version": "^0.18",
          "model_name": "LeafletMeasureControlModel",
          "state": {
            "_custom_units": {},
            "_model_module": "jupyter-leaflet",
            "_model_module_version": "^0.18",
            "_model_name": "LeafletMeasureControlModel",
            "_view_count": null,
            "_view_module": "jupyter-leaflet",
            "_view_module_version": "^0.18",
            "_view_name": "LeafletMeasureControlView",
            "active_color": "orange",
            "capture_z_index": 10000,
            "completed_color": "#C8F2BE",
            "options": [
              "active_color",
              "capture_z_index",
              "completed_color",
              "popup_options",
              "position",
              "primary_area_unit",
              "primary_length_unit",
              "secondary_area_unit",
              "secondary_length_unit"
            ],
            "popup_options": {
              "autoPanPadding": [
                10,
                10
              ],
              "className": "leaflet-measure-resultpopup"
            },
            "position": "bottomleft",
            "primary_area_unit": "acres",
            "primary_length_unit": "kilometers",
            "secondary_area_unit": null,
            "secondary_length_unit": null
          }
        },
        "4f5d5ad7365b454b8ad1e18a7a44b504": {
          "model_module": "@jupyter-widgets/base",
          "model_module_version": "1.2.0",
          "model_name": "LayoutModel",
          "state": {
            "_model_module": "@jupyter-widgets/base",
            "_model_module_version": "1.2.0",
            "_model_name": "LayoutModel",
            "_view_count": null,
            "_view_module": "@jupyter-widgets/base",
            "_view_module_version": "1.2.0",
            "_view_name": "LayoutView",
            "align_content": null,
            "align_items": null,
            "align_self": null,
            "border": null,
            "bottom": null,
            "display": null,
            "flex": null,
            "flex_flow": null,
            "grid_area": null,
            "grid_auto_columns": null,
            "grid_auto_flow": null,
            "grid_auto_rows": null,
            "grid_column": null,
            "grid_gap": null,
            "grid_row": null,
            "grid_template_areas": null,
            "grid_template_columns": null,
            "grid_template_rows": null,
            "height": "28px",
            "justify_content": null,
            "justify_items": null,
            "left": null,
            "margin": null,
            "max_height": null,
            "max_width": null,
            "min_height": null,
            "min_width": null,
            "object_fit": null,
            "object_position": null,
            "order": null,
            "overflow": null,
            "overflow_x": null,
            "overflow_y": null,
            "padding": "0px 0px 0px 4px",
            "right": null,
            "top": null,
            "visibility": null,
            "width": "28px"
          }
        },
        "5d1c1b49615046a99ecd43d373ac90f5": {
          "model_module": "jupyter-leaflet",
          "model_module_version": "^0.18",
          "model_name": "LeafletMapStyleModel",
          "state": {
            "_model_module": "jupyter-leaflet",
            "_model_module_version": "^0.18",
            "_model_name": "LeafletMapStyleModel",
            "_view_count": null,
            "_view_module": "@jupyter-widgets/base",
            "_view_module_version": "1.2.0",
            "_view_name": "StyleView",
            "cursor": "grab"
          }
        },
        "638bec2e45b7429aabe9944bf4a995cc": {
          "model_module": "jupyter-leaflet",
          "model_module_version": "^0.18",
          "model_name": "LeafletTileLayerModel",
          "state": {
            "_model_module": "jupyter-leaflet",
            "_model_module_version": "^0.18",
            "_model_name": "LeafletTileLayerModel",
            "_view_count": null,
            "_view_module": "jupyter-leaflet",
            "_view_module_version": "^0.18",
            "_view_name": "LeafletTileLayerView",
            "attribution": "&copy; <a href=\"https://www.openstreetmap.org/copyright\">OpenStreetMap</a> contributors",
            "base": true,
            "bottom": true,
            "bounds": null,
            "detect_retina": false,
            "loading": false,
            "max_native_zoom": null,
            "max_zoom": 19,
            "min_native_zoom": null,
            "min_zoom": 1,
            "name": "OpenStreetMap.Mapnik",
            "no_wrap": false,
            "opacity": 1,
            "options": [
              "attribution",
              "bounds",
              "detect_retina",
              "max_native_zoom",
              "max_zoom",
              "min_native_zoom",
              "min_zoom",
              "no_wrap",
              "tile_size",
              "tms",
              "zoom_offset"
            ],
            "pane": "",
            "popup": null,
            "popup_max_height": null,
            "popup_max_width": 300,
            "popup_min_width": 50,
            "show_loading": false,
            "subitems": [],
            "tile_size": 256,
            "tms": false,
            "url": "https://tile.openstreetmap.org/{z}/{x}/{y}.png",
            "visible": true,
            "zoom_offset": 0
          }
        },
        "6eb0867fd0604beabb78820888a0df49": {
          "model_module": "@jupyter-widgets/controls",
          "model_module_version": "1.5.0",
          "model_name": "DescriptionStyleModel",
          "state": {
            "_model_module": "@jupyter-widgets/controls",
            "_model_module_version": "1.5.0",
            "_model_name": "DescriptionStyleModel",
            "_view_count": null,
            "_view_module": "@jupyter-widgets/base",
            "_view_module_version": "1.2.0",
            "_view_name": "StyleView",
            "description_width": ""
          }
        },
        "7ce282ea991a463ba87dc8377e688309": {
          "model_module": "jupyter-leaflet",
          "model_module_version": "^0.18",
          "model_name": "LeafletTileLayerModel",
          "state": {
            "_model_module": "jupyter-leaflet",
            "_model_module_version": "^0.18",
            "_model_name": "LeafletTileLayerModel",
            "_view_count": null,
            "_view_module": "jupyter-leaflet",
            "_view_module_version": "^0.18",
            "_view_name": "LeafletTileLayerView",
            "attribution": "Google Earth Engine",
            "base": false,
            "bottom": true,
            "bounds": null,
            "detect_retina": false,
            "loading": false,
            "max_native_zoom": null,
            "max_zoom": 24,
            "min_native_zoom": null,
            "min_zoom": 0,
            "name": "RGB",
            "no_wrap": false,
            "opacity": 1,
            "options": [
              "attribution",
              "bounds",
              "detect_retina",
              "max_native_zoom",
              "max_zoom",
              "min_native_zoom",
              "min_zoom",
              "no_wrap",
              "tile_size",
              "tms",
              "zoom_offset"
            ],
            "pane": "",
            "popup": null,
            "popup_max_height": null,
            "popup_max_width": 300,
            "popup_min_width": 50,
            "show_loading": false,
            "subitems": [],
            "tile_size": 256,
            "tms": false,
            "url": "https://earthengine.googleapis.com/v1/projects/ee-foss4g/maps/add58f54190cb9d12f462750ae49c307-a42ee371841b216de0d58ab31895f7d2/tiles/{z}/{x}/{y}",
            "visible": true,
            "zoom_offset": 0
          }
        },
        "84af5ff8063a4002b97154e310edb433": {
          "model_module": "@jupyter-widgets/controls",
          "model_module_version": "1.5.0",
          "model_name": "DescriptionStyleModel",
          "state": {
            "_model_module": "@jupyter-widgets/controls",
            "_model_module_version": "1.5.0",
            "_model_name": "DescriptionStyleModel",
            "_view_count": null,
            "_view_module": "@jupyter-widgets/base",
            "_view_module_version": "1.2.0",
            "_view_name": "StyleView",
            "description_width": ""
          }
        },
        "90e486df3e8e45e5ad4924ca5f9bffd4": {
          "model_module": "@jupyter-widgets/controls",
          "model_module_version": "1.5.0",
          "model_name": "ToggleButtonModel",
          "state": {
            "_dom_classes": [],
            "_model_module": "@jupyter-widgets/controls",
            "_model_module_version": "1.5.0",
            "_model_name": "ToggleButtonModel",
            "_view_count": null,
            "_view_module": "@jupyter-widgets/controls",
            "_view_module_version": "1.5.0",
            "_view_name": "ToggleButtonView",
            "button_style": "",
            "description": "",
            "description_tooltip": null,
            "disabled": false,
            "icon": "wrench",
            "layout": "IPY_MODEL_368217a0600c422da97f2a400c9c8498",
            "style": "IPY_MODEL_6eb0867fd0604beabb78820888a0df49",
            "tooltip": "Toolbar",
            "value": false
          }
        },
        "979541c5660a4b86a240f196cfaab75f": {
          "model_module": "@jupyter-widgets/controls",
          "model_module_version": "1.5.0",
          "model_name": "ToggleButtonModel",
          "state": {
            "_dom_classes": [],
            "_model_module": "@jupyter-widgets/controls",
            "_model_module_version": "1.5.0",
            "_model_name": "ToggleButtonModel",
            "_view_count": null,
            "_view_module": "@jupyter-widgets/controls",
            "_view_module_version": "1.5.0",
            "_view_name": "ToggleButtonView",
            "button_style": "",
            "description": "",
            "description_tooltip": null,
            "disabled": false,
            "icon": "globe",
            "layout": "IPY_MODEL_4f5d5ad7365b454b8ad1e18a7a44b504",
            "style": "IPY_MODEL_84af5ff8063a4002b97154e310edb433",
            "tooltip": "Search location/data",
            "value": false
          }
        },
        "9aa284bc3b844387980cfa43f7708c9a": {
          "model_module": "@jupyter-widgets/controls",
          "model_module_version": "1.5.0",
          "model_name": "HBoxModel",
          "state": {
            "_dom_classes": [
              "geemap-colab"
            ],
            "_model_module": "@jupyter-widgets/controls",
            "_model_module_version": "1.5.0",
            "_model_name": "HBoxModel",
            "_view_count": null,
            "_view_module": "@jupyter-widgets/controls",
            "_view_module_version": "1.5.0",
            "_view_name": "HBoxView",
            "box_style": "",
            "children": [
              "IPY_MODEL_979541c5660a4b86a240f196cfaab75f"
            ],
            "layout": "IPY_MODEL_0bba004e4c5d4d1eac82791953f8cce6"
          }
        },
        "aafa08e067ee418bb3d0bcc165954495": {
          "model_module": "@jupyter-widgets/controls",
          "model_module_version": "1.5.0",
          "model_name": "VBoxModel",
          "state": {
            "_dom_classes": [
              "geemap-colab"
            ],
            "_model_module": "@jupyter-widgets/controls",
            "_model_module_version": "1.5.0",
            "_model_name": "VBoxModel",
            "_view_count": null,
            "_view_module": "@jupyter-widgets/controls",
            "_view_module_version": "1.5.0",
            "_view_name": "VBoxView",
            "box_style": "",
            "children": [
              "IPY_MODEL_90e486df3e8e45e5ad4924ca5f9bffd4"
            ],
            "layout": "IPY_MODEL_3eddd9b626024ac284d7e363827ca8fe"
          }
        },
        "b42990efcc804419b96f6db55affbb98": {
          "model_module": "jupyter-leaflet",
          "model_module_version": "^0.18",
          "model_name": "LeafletScaleControlModel",
          "state": {
            "_model_module": "jupyter-leaflet",
            "_model_module_version": "^0.18",
            "_model_name": "LeafletScaleControlModel",
            "_view_count": null,
            "_view_module": "jupyter-leaflet",
            "_view_module_version": "^0.18",
            "_view_name": "LeafletScaleControlView",
            "imperial": true,
            "max_width": 100,
            "metric": true,
            "options": [
              "imperial",
              "max_width",
              "metric",
              "position",
              "update_when_idle"
            ],
            "position": "bottomleft",
            "update_when_idle": false
          }
        },
        "c02513517ffc4b0facd3de1e97ceb714": {
          "model_module": "jupyter-leaflet",
          "model_module_version": "^0.18",
          "model_name": "LeafletWidgetControlModel",
          "state": {
            "_model_module": "jupyter-leaflet",
            "_model_module_version": "^0.18",
            "_model_name": "LeafletWidgetControlModel",
            "_view_count": null,
            "_view_module": "jupyter-leaflet",
            "_view_module_version": "^0.18",
            "_view_name": "LeafletWidgetControlView",
            "max_height": null,
            "max_width": null,
            "min_height": null,
            "min_width": null,
            "options": [
              "position",
              "transparent_bg"
            ],
            "position": "topright",
            "transparent_bg": false,
            "widget": "IPY_MODEL_aafa08e067ee418bb3d0bcc165954495"
          }
        },
        "cb1797cb76e04eec89de7cc5859c8627": {
          "model_module": "jupyter-leaflet",
          "model_module_version": "^0.18",
          "model_name": "LeafletMapModel",
          "state": {
            "_dom_classes": [],
            "_model_module": "jupyter-leaflet",
            "_model_module_version": "^0.18",
            "_model_name": "LeafletMapModel",
            "_view_count": null,
            "_view_module": "jupyter-leaflet",
            "_view_module_version": "^0.18",
            "_view_name": "LeafletMapView",
            "bottom": 202232,
            "bounce_at_zoom_limits": true,
            "box_zoom": true,
            "center": [
              38.13576013377399,
              128.41324038484834
            ],
            "close_popup_on_click": true,
            "controls": [
              "IPY_MODEL_0d8f89961a4545f5a8859c5a5596463f",
              "IPY_MODEL_104cd8a9be354ec0acd7041e5d4f1095",
              "IPY_MODEL_09791b015d384738866e0a13a6f3d147",
              "IPY_MODEL_2f65fae523fb489f816bc4a809ae355c",
              "IPY_MODEL_b42990efcc804419b96f6db55affbb98",
              "IPY_MODEL_44f2ceb4b3df467cb86fd3c460947ebc",
              "IPY_MODEL_c02513517ffc4b0facd3de1e97ceb714",
              "IPY_MODEL_d6951fb903464d569253852eb66d6148"
            ],
            "crs": {
              "custom": false,
              "name": "EPSG3857"
            },
            "default_style": "IPY_MODEL_cc526832fcb24f338610e44321de3bb2",
            "double_click_zoom": true,
            "dragging": true,
            "dragging_style": "IPY_MODEL_177e24e79cfd4cc7b3ff2048aa57e19a",
            "east": 128.68766784667972,
            "fullscreen": false,
            "inertia": true,
            "inertia_deceleration": 3000,
            "inertia_max_speed": 1500,
            "interpolation": "bilinear",
            "keyboard": true,
            "keyboard_pan_offset": 80,
            "keyboard_zoom_offset": 1,
            "layers": [
              "IPY_MODEL_638bec2e45b7429aabe9944bf4a995cc",
              "IPY_MODEL_7ce282ea991a463ba87dc8377e688309"
            ],
            "layout": "IPY_MODEL_1cd9bfdba83d4d439423c14dcdd99fae",
            "left": 448759,
            "max_zoom": 24,
            "min_zoom": null,
            "modisdate": "2024-03-01",
            "north": 38.27053224010455,
            "options": [
              "bounce_at_zoom_limits",
              "box_zoom",
              "center",
              "close_popup_on_click",
              "double_click_zoom",
              "dragging",
              "fullscreen",
              "inertia",
              "inertia_deceleration",
              "inertia_max_speed",
              "interpolation",
              "keyboard",
              "keyboard_pan_offset",
              "keyboard_zoom_offset",
              "max_zoom",
              "min_zoom",
              "prefer_canvas",
              "scroll_wheel_zoom",
              "tap",
              "tap_tolerance",
              "touch_zoom",
              "world_copy_jump",
              "zoom",
              "zoom_animation_threshold",
              "zoom_delta",
              "zoom_snap"
            ],
            "panes": {},
            "prefer_canvas": false,
            "right": 449559,
            "scroll_wheel_zoom": true,
            "south": 38.00049145082287,
            "style": "IPY_MODEL_5d1c1b49615046a99ecd43d373ac90f5",
            "tap": true,
            "tap_tolerance": 15,
            "top": 201732,
            "touch_zoom": true,
            "west": 128.13835144042972,
            "window_url": "https://mqb6uotv9e-496ff2e9c6d22116-0-colab.googleusercontent.com/outputframe.html?vrz=colab_20240228-060152_RC00_611016369",
            "world_copy_jump": false,
            "zoom": 11,
            "zoom_animation_threshold": 4,
            "zoom_delta": 1,
            "zoom_snap": 1
          }
        },
        "cc526832fcb24f338610e44321de3bb2": {
          "model_module": "jupyter-leaflet",
          "model_module_version": "^0.18",
          "model_name": "LeafletMapStyleModel",
          "state": {
            "_model_module": "jupyter-leaflet",
            "_model_module_version": "^0.18",
            "_model_name": "LeafletMapStyleModel",
            "_view_count": null,
            "_view_module": "@jupyter-widgets/base",
            "_view_module_version": "1.2.0",
            "_view_name": "StyleView",
            "cursor": "grab"
          }
        },
        "d6951fb903464d569253852eb66d6148": {
          "model_module": "jupyter-leaflet",
          "model_module_version": "^0.18",
          "model_name": "LeafletAttributionControlModel",
          "state": {
            "_model_module": "jupyter-leaflet",
            "_model_module_version": "^0.18",
            "_model_name": "LeafletAttributionControlModel",
            "_view_count": null,
            "_view_module": "jupyter-leaflet",
            "_view_module_version": "^0.18",
            "_view_name": "LeafletAttributionControlView",
            "options": [
              "position",
              "prefix"
            ],
            "position": "bottomright",
            "prefix": "ipyleaflet"
          }
        }
      }
    }
  },
  "nbformat": 4,
  "nbformat_minor": 5
}